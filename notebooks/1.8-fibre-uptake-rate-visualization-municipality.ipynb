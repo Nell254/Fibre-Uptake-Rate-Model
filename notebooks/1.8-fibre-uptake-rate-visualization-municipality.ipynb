{
 "cells": [
  {
   "cell_type": "markdown",
   "id": "e40f6c93",
   "metadata": {},
   "source": [
    "#### Import necessary dependecies"
   ]
  },
  {
   "cell_type": "code",
   "execution_count": null,
   "id": "e86bf687",
   "metadata": {},
   "outputs": [],
   "source": [
    "import pandas as pd\n",
    "import geopandas as gpd\n",
    "import folium"
   ]
  },
  {
   "cell_type": "markdown",
   "id": "090d3454",
   "metadata": {},
   "source": [
    "#### Load the CSV file with municipal uptake rate"
   ]
  },
  {
   "cell_type": "code",
   "execution_count": null,
   "id": "dcd1715c",
   "metadata": {},
   "outputs": [],
   "source": [
    "df_csv = pd.read_csv(\"https://2207-17-fibre-competitive-intensity-model-b.s3.eu-west-1.amazonaws.com/Preprocessed+Data/SA-municipality-uptake-rate.csv\")"
   ]
  },
  {
   "cell_type": "markdown",
   "id": "2c22bd8f",
   "metadata": {},
   "source": [
    "#### Display the first few rows of the DataFrame"
   ]
  },
  {
   "cell_type": "code",
   "execution_count": null,
   "id": "1a83e640",
   "metadata": {},
   "outputs": [],
   "source": [
    "df_csv.head()"
   ]
  },
  {
   "cell_type": "markdown",
   "id": "eac2ead8",
   "metadata": {},
   "source": [
    "#### Load the shapefile of South Africa municipalities"
   ]
  },
  {
   "cell_type": "code",
   "execution_count": null,
   "id": "b22006be",
   "metadata": {},
   "outputs": [],
   "source": [
    "gdf_municipalities = gpd.read_file(\"https://2207-17-fibre-competitive-intensity-model-b.s3.eu-west-1.amazonaws.com/MDB_Local_Municipal_Boundary_2018.geojson\")"
   ]
  },
  {
   "cell_type": "markdown",
   "id": "2d46e032",
   "metadata": {},
   "source": [
    "#### Display the first few rows of the DataFrame"
   ]
  },
  {
   "cell_type": "code",
   "execution_count": null,
   "id": "a2ee8a58",
   "metadata": {},
   "outputs": [],
   "source": [
    "gdf_municipalities.head()"
   ]
  },
  {
   "cell_type": "markdown",
   "id": "147e6465",
   "metadata": {},
   "source": [
    "#### Convert the entries in the 'MUNICNAME' column to lowercase"
   ]
  },
  {
   "cell_type": "code",
   "execution_count": null,
   "id": "49e2587f",
   "metadata": {},
   "outputs": [],
   "source": [
    "gdf_municipalities['MUNICNAME'] = gdf_municipalities['MUNICNAME'].str.lower()"
   ]
  },
  {
   "cell_type": "markdown",
   "id": "614525d2",
   "metadata": {},
   "source": [
    "#### Rename the 'MUNICNAME' column"
   ]
  },
  {
   "cell_type": "code",
   "execution_count": null,
   "id": "4512d837",
   "metadata": {},
   "outputs": [],
   "source": [
    "gdf_municipalities = gdf_municipalities.rename(columns={\n",
    "    'MUNICNAME': 'municipality'\n",
    "})"
   ]
  },
  {
   "cell_type": "markdown",
   "id": "b556ce1e",
   "metadata": {},
   "source": [
    "#### Display the first few rows of the DataFrame"
   ]
  },
  {
   "cell_type": "code",
   "execution_count": null,
   "id": "72c23dc8",
   "metadata": {},
   "outputs": [],
   "source": [
    "gdf_municipalities.head()"
   ]
  },
  {
   "cell_type": "markdown",
   "id": "86aae2f1",
   "metadata": {},
   "source": [
    "#### Merge the two DataFrames based on the municipality name"
   ]
  },
  {
   "cell_type": "code",
   "execution_count": null,
   "id": "61506bc1",
   "metadata": {},
   "outputs": [],
   "source": [
    "merged_df = pd.merge(gdf_municipalities, df_csv, on=\"municipality\")"
   ]
  },
  {
   "cell_type": "markdown",
   "id": "9c56b9ad",
   "metadata": {},
   "source": [
    "#### Display the first few rows of the DataFrame"
   ]
  },
  {
   "cell_type": "code",
   "execution_count": null,
   "id": "31654fdc",
   "metadata": {},
   "outputs": [],
   "source": [
    "merged_df.head()"
   ]
  },
  {
   "cell_type": "markdown",
   "id": "4f071d87",
   "metadata": {},
   "source": [
    "#### Convert the DATE column to a string(Object of type Timestamp should be JSON serializable for Folium to run)"
   ]
  },
  {
   "cell_type": "code",
   "execution_count": null,
   "id": "1744dad0",
   "metadata": {},
   "outputs": [],
   "source": [
    "merged_df['DATE'] = merged_df['DATE'].astype(str)"
   ]
  },
  {
   "cell_type": "markdown",
   "id": "76e2154f",
   "metadata": {},
   "source": [
    "#### Convert the merged DataFrame into a GeoJSON file"
   ]
  },
  {
   "cell_type": "code",
   "execution_count": null,
   "id": "3962aeda",
   "metadata": {},
   "outputs": [],
   "source": [
    "merged_geojson = merged_df.to_crs(epsg='4326').to_json()"
   ]
  },
  {
   "cell_type": "markdown",
   "id": "47b2506b",
   "metadata": {},
   "source": [
    "#### Create the Folium map"
   ]
  },
  {
   "cell_type": "code",
   "execution_count": null,
   "id": "47377e74",
   "metadata": {},
   "outputs": [],
   "source": [
    "m = folium.Map(location=[-29.0562, 25.4377], zoom_start=5)"
   ]
  },
  {
   "cell_type": "markdown",
   "id": "94658daa",
   "metadata": {},
   "source": [
    "#### Add the choropleth layer to the map"
   ]
  },
  {
   "cell_type": "code",
   "execution_count": null,
   "id": "d2f2e1b8",
   "metadata": {},
   "outputs": [],
   "source": [
    "folium.Choropleth(\n",
    "    geo_data=merged_geojson,\n",
    "    data=merged_df,\n",
    "    columns=['municipality', 'uptake_rate_pop'],\n",
    "    key_on='feature.properties.municipality',\n",
    "    fill_color='YlGn',\n",
    "    fill_opacity=0.7,\n",
    "    line_opacity=0.2,\n",
    "    legend_name='Fibre Uptake Rate_pop (%)'\n",
    ").add_to(m)"
   ]
  },
  {
   "cell_type": "markdown",
   "id": "c749c306",
   "metadata": {},
   "source": [
    "#### Add GeoJsonTooltip to show the exact uptake rate"
   ]
  },
  {
   "cell_type": "code",
   "execution_count": null,
   "id": "02dd90f8",
   "metadata": {},
   "outputs": [],
   "source": [
    "folium.GeoJson(\n",
    "    merged_geojson,\n",
    "    name='tooltip',\n",
    "    tooltip=folium.features.GeoJsonTooltip(\n",
    "        fields=['municipality', 'uptake_rate_pop'],\n",
    "        aliases=['Municipality:', 'Uptake Rate:'],\n",
    "        style=('background-color: grey; color: white;')\n",
    "    )\n",
    ").add_to(m)"
   ]
  },
  {
   "cell_type": "markdown",
   "id": "3e1a2ae0",
   "metadata": {},
   "source": [
    "#### Display the map"
   ]
  },
  {
   "cell_type": "code",
   "execution_count": null,
   "id": "c037d329",
   "metadata": {},
   "outputs": [],
   "source": [
    "m"
   ]
  }
 ],
 "metadata": {
  "kernelspec": {
   "display_name": "Python 3 (ipykernel)",
   "language": "python",
   "name": "python3"
  },
  "language_info": {
   "codemirror_mode": {
    "name": "ipython",
    "version": 3
   },
   "file_extension": ".py",
   "mimetype": "text/x-python",
   "name": "python",
   "nbconvert_exporter": "python",
   "pygments_lexer": "ipython3",
   "version": "3.11.2"
  }
 },
 "nbformat": 4,
 "nbformat_minor": 5
}
