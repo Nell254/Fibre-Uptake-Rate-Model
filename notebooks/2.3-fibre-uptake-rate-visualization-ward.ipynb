{
 "cells": [
  {
   "cell_type": "markdown",
   "id": "e40f6c93",
   "metadata": {},
   "source": [
    "#### Import necessary dependensies"
   ]
  },
  {
   "cell_type": "code",
   "execution_count": null,
   "id": "793832f5",
   "metadata": {},
   "outputs": [],
   "source": [
    "import pandas as pd\n",
    "import geopandas as gpd\n",
    "import folium"
   ]
  },
  {
   "cell_type": "markdown",
   "id": "e208355a",
   "metadata": {},
   "source": [
    "#### Load the CSV file with ward uptake rate"
   ]
  },
  {
   "cell_type": "code",
   "execution_count": null,
   "id": "dcd1715c",
   "metadata": {},
   "outputs": [],
   "source": [
    "df_csv = pd.read_csv(\"https://2207-17-fibre-competitive-intensity-model-b.s3.eu-west-1.amazonaws.com/SA-uptake-rate-ward-level.csv\")"
   ]
  },
  {
   "cell_type": "markdown",
   "id": "7d577637",
   "metadata": {},
   "source": [
    "#### Display the first few rows of the DataFrame"
   ]
  },
  {
   "cell_type": "code",
   "execution_count": null,
   "id": "1a83e640",
   "metadata": {},
   "outputs": [],
   "source": [
    "df_csv.head()"
   ]
  },
  {
   "cell_type": "markdown",
   "id": "5b27fb31",
   "metadata": {},
   "source": [
    "#### Load the shapefile of South Africa wards"
   ]
  },
  {
   "cell_type": "code",
   "execution_count": null,
   "id": "b22006be",
   "metadata": {},
   "outputs": [],
   "source": [
    "# Uncheck the url to the S3 bucket and check the path to the local pc\n",
    "\n",
    "# gdf_ward = gpd.read_file(\"https://2207-17-fibre-competitive-intensity-model-b.s3.eu-west-1.amazonaws.com/2011+Wards+Administrative+boundaries/Wards2011.shp\")\n",
    "\n",
    "gdf_ward = gpd.read_file(\"C:/Users/nmwem/OneDrive/Desktop/SA-Maps/Wards/Wards2011.shp\")"
   ]
  },
  {
   "cell_type": "markdown",
   "id": "3c5bf045",
   "metadata": {},
   "source": [
    "#### Display the first few rows of the DataFrame"
   ]
  },
  {
   "cell_type": "code",
   "execution_count": null,
   "id": "a2ee8a58",
   "metadata": {},
   "outputs": [],
   "source": [
    "gdf_ward.head()"
   ]
  },
  {
   "cell_type": "markdown",
   "id": "eb3caa97",
   "metadata": {},
   "source": [
    "#### Rename the 'WARD_ID' column"
   ]
  },
  {
   "cell_type": "code",
   "execution_count": null,
   "id": "4512d837",
   "metadata": {},
   "outputs": [],
   "source": [
    "gdf_ward = gdf_ward.rename(columns={\n",
    "    'WARD_ID': 'ward_code'\n",
    "})"
   ]
  },
  {
   "cell_type": "markdown",
   "id": "1c956872",
   "metadata": {},
   "source": [
    "#### Display the first few columns of the df"
   ]
  },
  {
   "cell_type": "code",
   "execution_count": null,
   "id": "72c23dc8",
   "metadata": {},
   "outputs": [],
   "source": [
    "gdf_ward.head()"
   ]
  },
  {
   "cell_type": "markdown",
   "id": "3c526b0c",
   "metadata": {},
   "source": [
    "#### Check the info of the df to determine if the dtypes are compatible for merging"
   ]
  },
  {
   "cell_type": "code",
   "execution_count": null,
   "id": "22709cbe",
   "metadata": {},
   "outputs": [],
   "source": [
    "df_csv.info()"
   ]
  },
  {
   "cell_type": "markdown",
   "id": "9cf3bfcb",
   "metadata": {},
   "source": [
    "#### Check the info of the df to determine if the dtypes are compatible for merging"
   ]
  },
  {
   "cell_type": "code",
   "execution_count": null,
   "id": "3dd3c1c2",
   "metadata": {},
   "outputs": [],
   "source": [
    "gdf_ward.info()"
   ]
  },
  {
   "cell_type": "markdown",
   "id": "290ebe10",
   "metadata": {},
   "source": [
    "#### Convert ward_code dtype in gdf_ward to numeric"
   ]
  },
  {
   "cell_type": "code",
   "execution_count": null,
   "id": "6efbdb6a",
   "metadata": {},
   "outputs": [],
   "source": [
    "gdf_ward['ward_code'] = pd.to_numeric(gdf_ward['ward_code'])"
   ]
  },
  {
   "cell_type": "markdown",
   "id": "123e62be",
   "metadata": {},
   "source": [
    "#### Merge the two DataFrames based on the municipality name"
   ]
  },
  {
   "cell_type": "code",
   "execution_count": null,
   "id": "61506bc1",
   "metadata": {},
   "outputs": [],
   "source": [
    "merged_df = pd.merge(gdf_ward, df_csv, on=\"ward_code\")"
   ]
  },
  {
   "cell_type": "markdown",
   "id": "466e7980",
   "metadata": {},
   "source": [
    "#### Display the first few rows of the DataFrame"
   ]
  },
  {
   "cell_type": "code",
   "execution_count": null,
   "id": "31654fdc",
   "metadata": {},
   "outputs": [],
   "source": [
    "merged_df.head()"
   ]
  },
  {
   "cell_type": "code",
   "execution_count": null,
   "id": "ca0eec3d",
   "metadata": {},
   "outputs": [],
   "source": [
    "merged_df.info()"
   ]
  },
  {
   "cell_type": "markdown",
   "id": "e7b45aad",
   "metadata": {},
   "source": [
    "#### Convert the merged DataFrame into a GeoJSON file"
   ]
  },
  {
   "cell_type": "code",
   "execution_count": null,
   "id": "3962aeda",
   "metadata": {},
   "outputs": [],
   "source": [
    "merged_geojson = merged_df.to_crs(epsg='4326').to_json()"
   ]
  },
  {
   "cell_type": "markdown",
   "id": "52dd2132",
   "metadata": {},
   "source": [
    "#### Create the Folium map"
   ]
  },
  {
   "cell_type": "code",
   "execution_count": null,
   "id": "47377e74",
   "metadata": {},
   "outputs": [],
   "source": [
    "m = folium.Map(location=[-29.0562, 25.4377], zoom_start=5)"
   ]
  },
  {
   "cell_type": "markdown",
   "id": "5250dc94",
   "metadata": {},
   "source": [
    "#### Add the choropleth layer to the map"
   ]
  },
  {
   "cell_type": "code",
   "execution_count": null,
   "id": "d2f2e1b8",
   "metadata": {},
   "outputs": [],
   "source": [
    "folium.Choropleth(\n",
    "    geo_data=merged_geojson,\n",
    "    data=merged_df,\n",
    "    columns=['ward_code', 'uptake_rate_pop'],\n",
    "    key_on='feature.properties.ward_code',\n",
    "    fill_color='YlGn',\n",
    "    fill_opacity=0.7,\n",
    "    line_opacity=0.2,\n",
    "    legend_name='Fibre Uptake Rate_pop (%)'\n",
    ").add_to(m)"
   ]
  },
  {
   "cell_type": "markdown",
   "id": "45aefc33",
   "metadata": {},
   "source": [
    "#### Add GeoJsonTooltip to show the exact uptake rate"
   ]
  },
  {
   "cell_type": "code",
   "execution_count": null,
   "id": "02dd90f8",
   "metadata": {},
   "outputs": [],
   "source": [
    "folium.GeoJson(\n",
    "    merged_geojson,\n",
    "    name='tooltip',\n",
    "    tooltip=folium.features.GeoJsonTooltip(\n",
    "        fields=['MUNICNAME_x', 'ward_code', 'uptake_rate_pop'],\n",
    "        aliases=['Municipality:', 'Ward:', 'Uptake Rate:'],\n",
    "        style=('background-color: grey; color: white;')\n",
    "    )\n",
    ").add_to(m)"
   ]
  },
  {
   "cell_type": "markdown",
   "id": "d726bfa6",
   "metadata": {},
   "source": [
    "#### Display the map"
   ]
  },
  {
   "cell_type": "code",
   "execution_count": null,
   "id": "c037d329",
   "metadata": {},
   "outputs": [],
   "source": [
    "m"
   ]
  }
 ],
 "metadata": {
  "kernelspec": {
   "display_name": "Python 3 (ipykernel)",
   "language": "python",
   "name": "python3"
  },
  "language_info": {
   "codemirror_mode": {
    "name": "ipython",
    "version": 3
   },
   "file_extension": ".py",
   "mimetype": "text/x-python",
   "name": "python",
   "nbconvert_exporter": "python",
   "pygments_lexer": "ipython3",
   "version": "3.11.2"
  }
 },
 "nbformat": 4,
 "nbformat_minor": 5
}
